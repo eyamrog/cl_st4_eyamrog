{
 "cells": [
  {
   "cell_type": "markdown",
   "id": "810d9f10-ec19-4b09-8f90-e983e460b319",
   "metadata": {
    "jp-MarkdownHeadingCollapsed": true
   },
   "source": [
    "<center>\n",
    "<img src=\"https://laelgelcpublic.s3.sa-east-1.amazonaws.com/lael_50_years_narrow_white.png.no_years.400px_96dpi.png\" width=\"300\" alt=\"LAEL 50 years logo\">\n",
    "<h3>APPLIED LINGUISTICS GRADUATE PROGRAMME (LAEL)</h3>\n",
    "</center>\n",
    "<hr>"
   ]
  },
  {
   "cell_type": "markdown",
   "id": "888c2c96-2fc3-4a1a-995b-c388036a2a15",
   "metadata": {},
   "source": [
    "# Corpus Linguistics - Study 4 - Phase 1 - eyamrog"
   ]
  },
  {
   "cell_type": "markdown",
   "id": "886be9c3-175a-47be-99b0-ff77cb1f9bb2",
   "metadata": {},
   "source": [
    "The aim of this phase is to consolidate `EL2AP`, `AI-EL2AP`, and `QJPP` corpora into a data set for statistical analysis."
   ]
  },
  {
   "cell_type": "markdown",
   "id": "a685d8b0-7715-45a6-9489-2d3db9b346c8",
   "metadata": {},
   "source": [
    "## Required Python packages"
   ]
  },
  {
   "cell_type": "markdown",
   "id": "c0e16e73-b1b9-4838-8cce-a29dc300868e",
   "metadata": {},
   "source": [
    "- pandas\n",
    "- matplotlib"
   ]
  },
  {
   "cell_type": "markdown",
   "id": "aa922755-c4d6-4008-9aad-d35e33b18ed7",
   "metadata": {},
   "source": [
    "## Import the required libraries"
   ]
  },
  {
   "cell_type": "code",
   "execution_count": 1,
   "id": "06ebcaf3-5b41-474c-9394-ebc8bec9005f",
   "metadata": {},
   "outputs": [],
   "source": [
    "import pandas as pd\n",
    "import os\n",
    "import sys\n",
    "import matplotlib.pyplot as plt"
   ]
  },
  {
   "cell_type": "markdown",
   "id": "c70ad6eb-4fe4-4a02-b536-07ea439fb1c0",
   "metadata": {},
   "source": [
    "## Define input variables"
   ]
  },
  {
   "cell_type": "code",
   "execution_count": 2,
   "id": "cd0eb6d9-0c71-42b3-ae52-747563f5fc30",
   "metadata": {},
   "outputs": [],
   "source": [
    "input_directory = 'cl_st4_ph1_eyamrog'\n",
    "output_directory = 'cl_st4_ph1_eyamrog'"
   ]
  },
  {
   "cell_type": "markdown",
   "id": "45cee171-b5d0-424e-9f07-f04194e7e768",
   "metadata": {},
   "source": [
    "## Create output directory"
   ]
  },
  {
   "cell_type": "code",
   "execution_count": 3,
   "id": "84f4b1cc-2154-4658-8590-c2ccb8fa3b12",
   "metadata": {},
   "outputs": [
    {
     "name": "stdout",
     "output_type": "stream",
     "text": [
      "Output directory already exists.\n"
     ]
    }
   ],
   "source": [
    "# Check if the output directory already exists. If it does, do nothing. If it doesn't exist, create it.\n",
    "if os.path.exists(output_directory):\n",
    "    print('Output directory already exists.')\n",
    "else:\n",
    "    try:\n",
    "        os.makedirs(output_directory)\n",
    "        print('Output directory successfully created.')\n",
    "    except OSError as e:\n",
    "        print('Failed to create the directory:', e)\n",
    "        sys.exit(1)"
   ]
  },
  {
   "cell_type": "markdown",
   "id": "e98133af-cab1-44d9-affa-5d4778ddd253",
   "metadata": {},
   "source": [
    "## Import the data into DataFrames"
   ]
  },
  {
   "cell_type": "markdown",
   "id": "709dc6e8-a744-4694-a03a-6c65d7b3e26c",
   "metadata": {},
   "source": [
    "### `EL2AP`"
   ]
  },
  {
   "cell_type": "code",
   "execution_count": 4,
   "id": "eba32d47-3a6d-444a-9aef-bcbacbb84735",
   "metadata": {},
   "outputs": [],
   "source": [
    "df_el2ap_dimensions = pd.read_json(f\"{input_directory}/df_el2ap_dimensions.jsonl\", lines=True)"
   ]
  },
  {
   "cell_type": "code",
   "execution_count": 5,
   "id": "f63c9536-c660-473e-bf43-1c8ebc1ffdbd",
   "metadata": {},
   "outputs": [],
   "source": [
    "df_el2ap_dimensions['Submitted'] = pd.to_datetime(df_el2ap_dimensions['Submitted'], unit='ms')\n",
    "df_el2ap_dimensions['Posted'] = pd.to_datetime(df_el2ap_dimensions['Posted'], unit='ms')"
   ]
  },
  {
   "cell_type": "markdown",
   "id": "315466a8-6ae9-4fab-ad9f-0a0582d48d4f",
   "metadata": {},
   "source": [
    "### `AI-EL2AP`"
   ]
  },
  {
   "cell_type": "code",
   "execution_count": 6,
   "id": "b44fdfb3-82e8-4774-9312-af21f837efd8",
   "metadata": {},
   "outputs": [],
   "source": [
    "df_ai_el2ap_dimensions = pd.read_json(f\"{input_directory}/df_ai_el2ap_dimensions.jsonl\", lines=True)"
   ]
  },
  {
   "cell_type": "code",
   "execution_count": 7,
   "id": "1451f90e-521f-47ee-94b1-40c250c17e58",
   "metadata": {},
   "outputs": [],
   "source": [
    "df_ai_el2ap_dimensions['Submitted'] = pd.to_datetime(df_ai_el2ap_dimensions['Submitted'], unit='ms')\n",
    "df_ai_el2ap_dimensions['Posted'] = pd.to_datetime(df_ai_el2ap_dimensions['Posted'], unit='ms')"
   ]
  },
  {
   "cell_type": "markdown",
   "id": "47810ef8-3586-437f-bccf-c308b188f136",
   "metadata": {},
   "source": [
    "### `QJPP`"
   ]
  },
  {
   "cell_type": "code",
   "execution_count": 8,
   "id": "d8656c2f-c63e-4d16-a68a-d544c49a4957",
   "metadata": {},
   "outputs": [],
   "source": [
    "df_qjpp_dimensions = pd.read_json(f\"{input_directory}/df_qjpp_dimensions.jsonl\", lines=True)"
   ]
  },
  {
   "cell_type": "code",
   "execution_count": 9,
   "id": "b2d7e88b-5532-4a55-95e1-791345db4548",
   "metadata": {},
   "outputs": [],
   "source": [
    "df_qjpp_dimensions['Published'] = pd.to_datetime(df_qjpp_dimensions['Published'], unit='ms')"
   ]
  },
  {
   "cell_type": "markdown",
   "id": "2f19dd69-876c-4d74-8755-99892533c348",
   "metadata": {},
   "source": [
    "## Reorganise `EL2AP`"
   ]
  },
  {
   "cell_type": "markdown",
   "id": "79210240-279d-4b2f-910f-0c7db1742b59",
   "metadata": {},
   "source": [
    "### Drop columns"
   ]
  },
  {
   "cell_type": "code",
   "execution_count": 10,
   "id": "3a1c5906-c20f-405e-87eb-40b2e3b609bb",
   "metadata": {},
   "outputs": [],
   "source": [
    "df_el2ap_dimensions.drop(columns=['Published', 'PDF Language', 'Posted', 'Text Paragraph ChatGPT', 'AI-EL2AP Filename'], inplace=True)"
   ]
  },
  {
   "cell_type": "markdown",
   "id": "9e0d2297-ddeb-4b03-8330-9d9917abdeb6",
   "metadata": {},
   "source": [
    "### Rename columns"
   ]
  },
  {
   "cell_type": "code",
   "execution_count": 11,
   "id": "6bb72728-39ba-44f2-bb39-f386506b1409",
   "metadata": {},
   "outputs": [],
   "source": [
    "df_el2ap_dimensions.rename(columns={'Submitted': 'Published'}, inplace=True)"
   ]
  },
  {
   "cell_type": "code",
   "execution_count": 12,
   "id": "81e598a9-c8ef-419f-8d3e-971d64800798",
   "metadata": {},
   "outputs": [],
   "source": [
    "df_el2ap_dimensions.rename(columns={'EL2AP Filename': 'Filename'}, inplace=True)"
   ]
  },
  {
   "cell_type": "markdown",
   "id": "6e2c5fd7-39b8-4447-8859-c35ca77f355d",
   "metadata": {},
   "source": [
    "### Create columns"
   ]
  },
  {
   "cell_type": "code",
   "execution_count": 13,
   "id": "5d5c6815-3b43-4c36-a1f7-8a478e548020",
   "metadata": {},
   "outputs": [],
   "source": [
    "df_el2ap_dimensions['Source'] = 'EL2AP'"
   ]
  },
  {
   "cell_type": "code",
   "execution_count": 14,
   "id": "c2261153-f766-44b5-92f2-7d413e5fa02f",
   "metadata": {},
   "outputs": [],
   "source": [
    "df_el2ap_dimensions['Journal'] = 'SciELO Preprints'"
   ]
  },
  {
   "cell_type": "code",
   "execution_count": 15,
   "id": "3c0043c3-999e-4ee2-ad1b-5bc6e3f3da89",
   "metadata": {},
   "outputs": [],
   "source": [
    "df_el2ap_dimensions['Vol/Issue'] = 'Not defined'"
   ]
  },
  {
   "cell_type": "code",
   "execution_count": 16,
   "id": "8ef3929c-fafd-4c29-aa0c-cc8cbb4b3d8c",
   "metadata": {},
   "outputs": [],
   "source": [
    "df_el2ap_dimensions['DOI'] = 'Not defined'"
   ]
  },
  {
   "cell_type": "code",
   "execution_count": 17,
   "id": "32e5cd19-293d-40a6-b4ae-c1591ed6be50",
   "metadata": {},
   "outputs": [],
   "source": [
    "df_el2ap_dimensions['ID'] = 'Not defined'"
   ]
  },
  {
   "cell_type": "markdown",
   "id": "ed5c4e6f-4340-41e4-b988-607cd2faf306",
   "metadata": {},
   "source": [
    "### Reordering columns"
   ]
  },
  {
   "cell_type": "code",
   "execution_count": 18,
   "id": "6226aab2-bef2-4d37-aac3-2c1d007952a8",
   "metadata": {},
   "outputs": [],
   "source": [
    "ordered_columns = [\n",
    "    'Source',\n",
    "    'Discipline',\n",
    "    'Journal',\n",
    "    'Vol/Issue',\n",
    "    'Published',\n",
    "    'Title',\n",
    "    'Authors',\n",
    "    'URL',\n",
    "    'DOI',\n",
    "    'PDF URL',\n",
    "    'ID',\n",
    "    'Text ID',\n",
    "    'Section',\n",
    "    'Section Code',\n",
    "    'Paragraph',\n",
    "    'Paragraph Code',\n",
    "    'Filename',\n",
    "    'Text Paragraph'\n",
    "]"
   ]
  },
  {
   "cell_type": "code",
   "execution_count": 19,
   "id": "fe0c923e-0770-4265-94ce-d6e9542a8ad1",
   "metadata": {},
   "outputs": [],
   "source": [
    "df_el2ap_dimensions = df_el2ap_dimensions[\n",
    "    ordered_columns + [col for col in df_el2ap_dimensions.columns if col not in ordered_columns]\n",
    "]"
   ]
  },
  {
   "cell_type": "code",
   "execution_count": 20,
   "id": "5b73c657-7d43-4728-aae8-0740146772a2",
   "metadata": {},
   "outputs": [
    {
     "data": {
      "text/plain": [
       "Index(['Source', 'Discipline', 'Journal', 'Vol/Issue', 'Published', 'Title',\n",
       "       'Authors', 'URL', 'DOI', 'PDF URL', 'ID', 'Text ID', 'Section',\n",
       "       'Section Code', 'Paragraph', 'Paragraph Code', 'Filename',\n",
       "       'Text Paragraph', 'Type/Token', 'Word Length', 'Word Count',\n",
       "       'Factor 1 Score', 'Factor 2 Score', 'Factor 3 Score', 'Factor 4 Score',\n",
       "       'Factor 5 Score'],\n",
       "      dtype='object')"
      ]
     },
     "execution_count": 20,
     "metadata": {},
     "output_type": "execute_result"
    }
   ],
   "source": [
    "df_el2ap_dimensions.columns"
   ]
  },
  {
   "cell_type": "markdown",
   "id": "efe3b438-ca1e-438b-b5b5-42f7cd4c438d",
   "metadata": {},
   "source": [
    "## Reorganise `AI-EL2AP`"
   ]
  },
  {
   "cell_type": "markdown",
   "id": "f59d4955-ffcf-497c-bba8-b65454405555",
   "metadata": {},
   "source": [
    "### Drop columns"
   ]
  },
  {
   "cell_type": "code",
   "execution_count": 21,
   "id": "68a15829-65df-41f9-80bf-182c03c86b5a",
   "metadata": {},
   "outputs": [],
   "source": [
    "df_ai_el2ap_dimensions.drop(columns=['Published', 'PDF Language', 'Posted', 'Text Paragraph', 'EL2AP Filename'], inplace=True)"
   ]
  },
  {
   "cell_type": "markdown",
   "id": "aa137839-fd21-4e39-8e81-5a27ca11187d",
   "metadata": {},
   "source": [
    "### Rename columns"
   ]
  },
  {
   "cell_type": "code",
   "execution_count": 22,
   "id": "2a1ec11a-99db-4d12-9916-8ca14a0fae6c",
   "metadata": {},
   "outputs": [],
   "source": [
    "df_ai_el2ap_dimensions.rename(columns={'Submitted': 'Published'}, inplace=True)"
   ]
  },
  {
   "cell_type": "code",
   "execution_count": 23,
   "id": "b2c9dafe-322f-4954-8f39-51e6b97755a0",
   "metadata": {},
   "outputs": [],
   "source": [
    "df_ai_el2ap_dimensions.rename(columns={'AI-EL2AP Filename': 'Filename'}, inplace=True)"
   ]
  },
  {
   "cell_type": "code",
   "execution_count": 24,
   "id": "70428ffa-322f-42e8-a542-07b95fa90ac6",
   "metadata": {},
   "outputs": [],
   "source": [
    "df_ai_el2ap_dimensions.rename(columns={'Text Paragraph ChatGPT': 'Text Paragraph'}, inplace=True)"
   ]
  },
  {
   "cell_type": "markdown",
   "id": "baea6faf-e79f-43d8-bee7-3a4ac4ef017f",
   "metadata": {},
   "source": [
    "### Create columns"
   ]
  },
  {
   "cell_type": "code",
   "execution_count": 25,
   "id": "b2d05702-8fa8-4cdd-a3d6-347110e320ad",
   "metadata": {},
   "outputs": [],
   "source": [
    "df_ai_el2ap_dimensions['Source'] = 'AI-EL2AP'"
   ]
  },
  {
   "cell_type": "code",
   "execution_count": 26,
   "id": "acc2d46b-e28e-4122-93d6-110935f8b950",
   "metadata": {},
   "outputs": [],
   "source": [
    "df_ai_el2ap_dimensions['Journal'] = 'SciELO Preprints'"
   ]
  },
  {
   "cell_type": "code",
   "execution_count": 27,
   "id": "963f091a-b61d-4c17-a66f-31d8f3016be6",
   "metadata": {},
   "outputs": [],
   "source": [
    "df_ai_el2ap_dimensions['Vol/Issue'] = 'Not defined'"
   ]
  },
  {
   "cell_type": "code",
   "execution_count": 28,
   "id": "6ed9bb2d-5891-4b90-9dab-5c5b7a86575b",
   "metadata": {},
   "outputs": [],
   "source": [
    "df_ai_el2ap_dimensions['DOI'] = 'Not defined'"
   ]
  },
  {
   "cell_type": "code",
   "execution_count": 29,
   "id": "b168a614-cb78-4eb4-a232-1ab328a8797b",
   "metadata": {},
   "outputs": [],
   "source": [
    "df_ai_el2ap_dimensions['ID'] = 'Not defined'"
   ]
  },
  {
   "cell_type": "markdown",
   "id": "cea483cb-ec91-4565-a9b4-55280a4d30f3",
   "metadata": {},
   "source": [
    "### Reordering columns"
   ]
  },
  {
   "cell_type": "code",
   "execution_count": 30,
   "id": "8f7d3031-4407-414b-be30-0fb796d8f674",
   "metadata": {},
   "outputs": [],
   "source": [
    "ordered_columns = [\n",
    "    'Source',\n",
    "    'Discipline',\n",
    "    'Journal',\n",
    "    'Vol/Issue',\n",
    "    'Published',\n",
    "    'Title',\n",
    "    'Authors',\n",
    "    'URL',\n",
    "    'DOI',\n",
    "    'PDF URL',\n",
    "    'ID',\n",
    "    'Text ID',\n",
    "    'Section',\n",
    "    'Section Code',\n",
    "    'Paragraph',\n",
    "    'Paragraph Code',\n",
    "    'Filename',\n",
    "    'Text Paragraph'\n",
    "]"
   ]
  },
  {
   "cell_type": "code",
   "execution_count": 31,
   "id": "90b3aced-b8aa-4450-9de5-9756012eedb0",
   "metadata": {},
   "outputs": [],
   "source": [
    "df_ai_el2ap_dimensions = df_ai_el2ap_dimensions[\n",
    "    ordered_columns + [col for col in df_ai_el2ap_dimensions.columns if col not in ordered_columns]\n",
    "]"
   ]
  },
  {
   "cell_type": "code",
   "execution_count": 32,
   "id": "7be5c33c-0b62-4663-9775-a02f6c10ece7",
   "metadata": {},
   "outputs": [
    {
     "data": {
      "text/plain": [
       "Index(['Source', 'Discipline', 'Journal', 'Vol/Issue', 'Published', 'Title',\n",
       "       'Authors', 'URL', 'DOI', 'PDF URL', 'ID', 'Text ID', 'Section',\n",
       "       'Section Code', 'Paragraph', 'Paragraph Code', 'Filename',\n",
       "       'Text Paragraph', 'Type/Token', 'Word Length', 'Word Count',\n",
       "       'Factor 1 Score', 'Factor 2 Score', 'Factor 3 Score', 'Factor 4 Score',\n",
       "       'Factor 5 Score'],\n",
       "      dtype='object')"
      ]
     },
     "execution_count": 32,
     "metadata": {},
     "output_type": "execute_result"
    }
   ],
   "source": [
    "df_ai_el2ap_dimensions.columns"
   ]
  },
  {
   "cell_type": "markdown",
   "id": "7ebf834d-52b3-43fc-a520-5bf435b1c2bb",
   "metadata": {},
   "source": [
    "## Reorganise `QJPP`"
   ]
  },
  {
   "cell_type": "markdown",
   "id": "1abba91c-e34d-49bf-91ce-a3a66ee768fb",
   "metadata": {},
   "source": [
    "### Rename columns"
   ]
  },
  {
   "cell_type": "code",
   "execution_count": 33,
   "id": "30e07b31-180c-4c10-bafc-62c230c8029c",
   "metadata": {},
   "outputs": [],
   "source": [
    "df_qjpp_dimensions.rename(columns={'QJPP Filename': 'Filename'}, inplace=True)"
   ]
  },
  {
   "cell_type": "markdown",
   "id": "310702d9-0873-4763-8289-de070022a359",
   "metadata": {},
   "source": [
    "### Create columns"
   ]
  },
  {
   "cell_type": "code",
   "execution_count": 34,
   "id": "b15c805b-4324-4d91-a42c-14d64c45f313",
   "metadata": {},
   "outputs": [],
   "source": [
    "df_qjpp_dimensions['Source'] = 'QJPP'"
   ]
  },
  {
   "cell_type": "markdown",
   "id": "54eaef56-e739-498a-a8aa-ddea22c2cd96",
   "metadata": {},
   "source": [
    "### Reordering columns"
   ]
  },
  {
   "cell_type": "code",
   "execution_count": 35,
   "id": "92c8651e-5a4a-4974-bfb2-dd1e0fc83e86",
   "metadata": {},
   "outputs": [],
   "source": [
    "ordered_columns = [\n",
    "    'Source',\n",
    "    'Discipline',\n",
    "    'Journal',\n",
    "    'Vol/Issue',\n",
    "    'Published',\n",
    "    'Title',\n",
    "    'Authors',\n",
    "    'URL',\n",
    "    'DOI',\n",
    "    'PDF URL',\n",
    "    'ID',\n",
    "    'Text ID',\n",
    "    'Section',\n",
    "    'Section Code',\n",
    "    'Paragraph',\n",
    "    'Paragraph Code',\n",
    "    'Filename',\n",
    "    'Text Paragraph'\n",
    "]"
   ]
  },
  {
   "cell_type": "code",
   "execution_count": 36,
   "id": "d63e4eb6-60ec-4b72-8e24-861b1b93af1f",
   "metadata": {},
   "outputs": [],
   "source": [
    "df_qjpp_dimensions = df_qjpp_dimensions[\n",
    "    ordered_columns + [col for col in df_qjpp_dimensions.columns if col not in ordered_columns]\n",
    "]"
   ]
  },
  {
   "cell_type": "code",
   "execution_count": 37,
   "id": "4994fe53-9d49-4258-a3b6-ca0dda3bcef3",
   "metadata": {},
   "outputs": [
    {
     "data": {
      "text/plain": [
       "Index(['Source', 'Discipline', 'Journal', 'Vol/Issue', 'Published', 'Title',\n",
       "       'Authors', 'URL', 'DOI', 'PDF URL', 'ID', 'Text ID', 'Section',\n",
       "       'Section Code', 'Paragraph', 'Paragraph Code', 'Filename',\n",
       "       'Text Paragraph', 'Type/Token', 'Word Length', 'Word Count',\n",
       "       'Factor 1 Score', 'Factor 2 Score', 'Factor 3 Score', 'Factor 4 Score',\n",
       "       'Factor 5 Score'],\n",
       "      dtype='object')"
      ]
     },
     "execution_count": 37,
     "metadata": {},
     "output_type": "execute_result"
    }
   ],
   "source": [
    "df_qjpp_dimensions.columns"
   ]
  },
  {
   "cell_type": "markdown",
   "id": "e625f534-859b-48df-be96-9f4c2c172c2e",
   "metadata": {},
   "source": [
    "## Concatenate the DataFrames"
   ]
  },
  {
   "cell_type": "code",
   "execution_count": 38,
   "id": "9468b663-a2c7-436d-a299-1352fef21817",
   "metadata": {},
   "outputs": [],
   "source": [
    "df_cl_st1_eyamrog_dimensions = pd.concat([\n",
    "    df_el2ap_dimensions,\n",
    "    df_ai_el2ap_dimensions,\n",
    "    df_qjpp_dimensions\n",
    "], ignore_index=True)"
   ]
  },
  {
   "cell_type": "markdown",
   "id": "9ba95536-a1a5-4729-be83-256c5bf54b18",
   "metadata": {},
   "source": [
    "### Correcting the `Linguistic, literature and arts` discipline"
   ]
  },
  {
   "cell_type": "code",
   "execution_count": 39,
   "id": "88a6e924-b143-49de-91f5-36a64837bb02",
   "metadata": {},
   "outputs": [],
   "source": [
    "df_cl_st1_eyamrog_dimensions['Discipline'] = df_cl_st1_eyamrog_dimensions['Discipline'].replace(\n",
    "    'Linguistic, literature and arts', 'Linguistics, literature and arts'\n",
    ")"
   ]
  },
  {
   "cell_type": "markdown",
   "id": "591dc269-635a-47c1-be3f-692fe9ef1343",
   "metadata": {},
   "source": [
    "### Checking the DataFrame for missing values"
   ]
  },
  {
   "cell_type": "code",
   "execution_count": 40,
   "id": "adc87c83-9f5c-4df5-b9b4-42029146d3c2",
   "metadata": {},
   "outputs": [
    {
     "data": {
      "text/plain": [
       "Source            0\n",
       "Discipline        0\n",
       "Journal           0\n",
       "Vol/Issue         0\n",
       "Published         0\n",
       "Title             0\n",
       "Authors           0\n",
       "URL               0\n",
       "DOI               0\n",
       "PDF URL           0\n",
       "ID                0\n",
       "Text ID           0\n",
       "Section           0\n",
       "Section Code      0\n",
       "Paragraph         0\n",
       "Paragraph Code    0\n",
       "Filename          0\n",
       "Text Paragraph    0\n",
       "Type/Token        0\n",
       "Word Length       0\n",
       "Word Count        0\n",
       "Factor 1 Score    0\n",
       "Factor 2 Score    0\n",
       "Factor 3 Score    0\n",
       "Factor 4 Score    0\n",
       "Factor 5 Score    0\n",
       "dtype: int64"
      ]
     },
     "execution_count": 40,
     "metadata": {},
     "output_type": "execute_result"
    }
   ],
   "source": [
    "df_cl_st1_eyamrog_dimensions.isna().sum()"
   ]
  },
  {
   "cell_type": "code",
   "execution_count": 41,
   "id": "f2409333-109c-4033-8262-29c76b6183af",
   "metadata": {},
   "outputs": [
    {
     "data": {
      "text/plain": [
       "Source                    object\n",
       "Discipline                object\n",
       "Journal                   object\n",
       "Vol/Issue                 object\n",
       "Published         datetime64[ns]\n",
       "Title                     object\n",
       "Authors                   object\n",
       "URL                       object\n",
       "DOI                       object\n",
       "PDF URL                   object\n",
       "ID                        object\n",
       "Text ID                   object\n",
       "Section                   object\n",
       "Section Code              object\n",
       "Paragraph                 object\n",
       "Paragraph Code            object\n",
       "Filename                  object\n",
       "Text Paragraph            object\n",
       "Type/Token               float64\n",
       "Word Length              float64\n",
       "Word Count                 int64\n",
       "Factor 1 Score           float64\n",
       "Factor 2 Score           float64\n",
       "Factor 3 Score           float64\n",
       "Factor 4 Score           float64\n",
       "Factor 5 Score           float64\n",
       "dtype: object"
      ]
     },
     "execution_count": 41,
     "metadata": {},
     "output_type": "execute_result"
    }
   ],
   "source": [
    "df_cl_st1_eyamrog_dimensions.dtypes"
   ]
  },
  {
   "cell_type": "code",
   "execution_count": 42,
   "id": "4da2130c-539b-48a2-969a-da1a069b8cd0",
   "metadata": {},
   "outputs": [
    {
     "data": {
      "text/html": [
       "<div>\n",
       "<style scoped>\n",
       "    .dataframe tbody tr th:only-of-type {\n",
       "        vertical-align: middle;\n",
       "    }\n",
       "\n",
       "    .dataframe tbody tr th {\n",
       "        vertical-align: top;\n",
       "    }\n",
       "\n",
       "    .dataframe thead th {\n",
       "        text-align: right;\n",
       "    }\n",
       "</style>\n",
       "<table border=\"1\" class=\"dataframe\">\n",
       "  <thead>\n",
       "    <tr style=\"text-align: right;\">\n",
       "      <th></th>\n",
       "      <th>Source</th>\n",
       "      <th>Discipline</th>\n",
       "      <th>Journal</th>\n",
       "      <th>Vol/Issue</th>\n",
       "      <th>Published</th>\n",
       "      <th>Title</th>\n",
       "      <th>Authors</th>\n",
       "      <th>URL</th>\n",
       "      <th>DOI</th>\n",
       "      <th>PDF URL</th>\n",
       "      <th>...</th>\n",
       "      <th>Filename</th>\n",
       "      <th>Text Paragraph</th>\n",
       "      <th>Type/Token</th>\n",
       "      <th>Word Length</th>\n",
       "      <th>Word Count</th>\n",
       "      <th>Factor 1 Score</th>\n",
       "      <th>Factor 2 Score</th>\n",
       "      <th>Factor 3 Score</th>\n",
       "      <th>Factor 4 Score</th>\n",
       "      <th>Factor 5 Score</th>\n",
       "    </tr>\n",
       "  </thead>\n",
       "  <tbody>\n",
       "    <tr>\n",
       "      <th>0</th>\n",
       "      <td>EL2AP</td>\n",
       "      <td>Biological Sciences</td>\n",
       "      <td>SciELO Preprints</td>\n",
       "      <td>Not defined</td>\n",
       "      <td>2022-11-22</td>\n",
       "      <td>(Fern flora of Viçosa, Minas Gerais State, Bra...</td>\n",
       "      <td>Nelson Túlio Lage Pena, Pedro Bond Schwartsburd</td>\n",
       "      <td>https://preprints.scielo.org/index.php/scielo/...</td>\n",
       "      <td>Not defined</td>\n",
       "      <td>https://preprints.scielo.org/index.php/scielo/...</td>\n",
       "      <td>...</td>\n",
       "      <td>t000000_s1_p1_el2ap.txt</td>\n",
       "      <td>(Fern flora of Viçosa, Minas Gerais State, Bra...</td>\n",
       "      <td>26.3</td>\n",
       "      <td>5.8</td>\n",
       "      <td>162</td>\n",
       "      <td>-23.71</td>\n",
       "      <td>-4.13</td>\n",
       "      <td>3.95</td>\n",
       "      <td>-6.61</td>\n",
       "      <td>-3.63</td>\n",
       "    </tr>\n",
       "    <tr>\n",
       "      <th>1</th>\n",
       "      <td>EL2AP</td>\n",
       "      <td>Biological Sciences</td>\n",
       "      <td>SciELO Preprints</td>\n",
       "      <td>Not defined</td>\n",
       "      <td>2022-11-22</td>\n",
       "      <td>(Fern flora of Viçosa, Minas Gerais State, Bra...</td>\n",
       "      <td>Nelson Túlio Lage Pena, Pedro Bond Schwartsburd</td>\n",
       "      <td>https://preprints.scielo.org/index.php/scielo/...</td>\n",
       "      <td>Not defined</td>\n",
       "      <td>https://preprints.scielo.org/index.php/scielo/...</td>\n",
       "      <td>...</td>\n",
       "      <td>t000000_s8_p1_el2ap.txt</td>\n",
       "      <td>At the end of the era in which the plant Class...</td>\n",
       "      <td>20.5</td>\n",
       "      <td>5.4</td>\n",
       "      <td>109</td>\n",
       "      <td>-23.11</td>\n",
       "      <td>-4.52</td>\n",
       "      <td>7.56</td>\n",
       "      <td>-2.94</td>\n",
       "      <td>8.99</td>\n",
       "    </tr>\n",
       "    <tr>\n",
       "      <th>2</th>\n",
       "      <td>EL2AP</td>\n",
       "      <td>Biological Sciences</td>\n",
       "      <td>SciELO Preprints</td>\n",
       "      <td>Not defined</td>\n",
       "      <td>2022-11-22</td>\n",
       "      <td>(Fern flora of Viçosa, Minas Gerais State, Bra...</td>\n",
       "      <td>Nelson Túlio Lage Pena, Pedro Bond Schwartsburd</td>\n",
       "      <td>https://preprints.scielo.org/index.php/scielo/...</td>\n",
       "      <td>Not defined</td>\n",
       "      <td>https://preprints.scielo.org/index.php/scielo/...</td>\n",
       "      <td>...</td>\n",
       "      <td>t000000_s8_p2_el2ap.txt</td>\n",
       "      <td>Brazil is represented by Dennstaedtiaceae with...</td>\n",
       "      <td>22.0</td>\n",
       "      <td>5.2</td>\n",
       "      <td>118</td>\n",
       "      <td>-16.08</td>\n",
       "      <td>-5.73</td>\n",
       "      <td>7.47</td>\n",
       "      <td>-6.61</td>\n",
       "      <td>8.36</td>\n",
       "    </tr>\n",
       "    <tr>\n",
       "      <th>3</th>\n",
       "      <td>EL2AP</td>\n",
       "      <td>Biological Sciences</td>\n",
       "      <td>SciELO Preprints</td>\n",
       "      <td>Not defined</td>\n",
       "      <td>2022-11-22</td>\n",
       "      <td>(Fern flora of Viçosa, Minas Gerais State, Bra...</td>\n",
       "      <td>Nelson Túlio Lage Pena, Pedro Bond Schwartsburd</td>\n",
       "      <td>https://preprints.scielo.org/index.php/scielo/...</td>\n",
       "      <td>Not defined</td>\n",
       "      <td>https://preprints.scielo.org/index.php/scielo/...</td>\n",
       "      <td>...</td>\n",
       "      <td>t000000_s8_p3_el2ap.txt</td>\n",
       "      <td>Pteridium is spread all across the globe (exce...</td>\n",
       "      <td>18.3</td>\n",
       "      <td>4.8</td>\n",
       "      <td>97</td>\n",
       "      <td>-2.16</td>\n",
       "      <td>-3.41</td>\n",
       "      <td>-2.12</td>\n",
       "      <td>-1.92</td>\n",
       "      <td>-0.50</td>\n",
       "    </tr>\n",
       "    <tr>\n",
       "      <th>4</th>\n",
       "      <td>EL2AP</td>\n",
       "      <td>Biological Sciences</td>\n",
       "      <td>SciELO Preprints</td>\n",
       "      <td>Not defined</td>\n",
       "      <td>2022-11-22</td>\n",
       "      <td>(Fern flora of Viçosa, Minas Gerais State, Bra...</td>\n",
       "      <td>Nelson Túlio Lage Pena, Pedro Bond Schwartsburd</td>\n",
       "      <td>https://preprints.scielo.org/index.php/scielo/...</td>\n",
       "      <td>Not defined</td>\n",
       "      <td>https://preprints.scielo.org/index.php/scielo/...</td>\n",
       "      <td>...</td>\n",
       "      <td>t000000_s8_p4_el2ap.txt</td>\n",
       "      <td>In the State of Minas Gerais, Dennstaedtiaceae...</td>\n",
       "      <td>16.8</td>\n",
       "      <td>5.2</td>\n",
       "      <td>94</td>\n",
       "      <td>-25.59</td>\n",
       "      <td>-5.38</td>\n",
       "      <td>-0.54</td>\n",
       "      <td>-6.61</td>\n",
       "      <td>4.56</td>\n",
       "    </tr>\n",
       "    <tr>\n",
       "      <th>...</th>\n",
       "      <td>...</td>\n",
       "      <td>...</td>\n",
       "      <td>...</td>\n",
       "      <td>...</td>\n",
       "      <td>...</td>\n",
       "      <td>...</td>\n",
       "      <td>...</td>\n",
       "      <td>...</td>\n",
       "      <td>...</td>\n",
       "      <td>...</td>\n",
       "      <td>...</td>\n",
       "      <td>...</td>\n",
       "      <td>...</td>\n",
       "      <td>...</td>\n",
       "      <td>...</td>\n",
       "      <td>...</td>\n",
       "      <td>...</td>\n",
       "      <td>...</td>\n",
       "      <td>...</td>\n",
       "      <td>...</td>\n",
       "      <td>...</td>\n",
       "    </tr>\n",
       "    <tr>\n",
       "      <th>22779</th>\n",
       "      <td>QJPP</td>\n",
       "      <td>Linguistics, literature and arts</td>\n",
       "      <td>Corpora</td>\n",
       "      <td>Volume 17, Issue Supplement</td>\n",
       "      <td>2022-09-27</td>\n",
       "      <td>Learner corpus research in New Zealand</td>\n",
       "      <td>Anna Siyanova-Chanturia, Jean Parkinson, and T...</td>\n",
       "      <td>https://www.euppublishing.com/doi/full/10.3366...</td>\n",
       "      <td>https://doi.org/10.3366/cor.2022.0250</td>\n",
       "      <td>https://www.euppublishing.com/doi/pdf/10.3366/...</td>\n",
       "      <td>...</td>\n",
       "      <td>t000299_s13_p32_qjpp.txt</td>\n",
       "      <td>However, compared with the writers of New Zeal...</td>\n",
       "      <td>11.3</td>\n",
       "      <td>6.1</td>\n",
       "      <td>66</td>\n",
       "      <td>-30.89</td>\n",
       "      <td>-4.73</td>\n",
       "      <td>-8.50</td>\n",
       "      <td>-6.61</td>\n",
       "      <td>15.62</td>\n",
       "    </tr>\n",
       "    <tr>\n",
       "      <th>22780</th>\n",
       "      <td>QJPP</td>\n",
       "      <td>Linguistics, literature and arts</td>\n",
       "      <td>Corpora</td>\n",
       "      <td>Volume 17, Issue Supplement</td>\n",
       "      <td>2022-09-27</td>\n",
       "      <td>Learner corpus research in New Zealand</td>\n",
       "      <td>Anna Siyanova-Chanturia, Jean Parkinson, and T...</td>\n",
       "      <td>https://www.euppublishing.com/doi/full/10.3366...</td>\n",
       "      <td>https://doi.org/10.3366/cor.2022.0250</td>\n",
       "      <td>https://www.euppublishing.com/doi/pdf/10.3366/...</td>\n",
       "      <td>...</td>\n",
       "      <td>t000299_s13_p33_qjpp.txt</td>\n",
       "      <td>Prommas’s (2020 ) finding of the lower use of ...</td>\n",
       "      <td>28.0</td>\n",
       "      <td>4.9</td>\n",
       "      <td>231</td>\n",
       "      <td>-22.72</td>\n",
       "      <td>-4.06</td>\n",
       "      <td>7.42</td>\n",
       "      <td>-4.87</td>\n",
       "      <td>1.13</td>\n",
       "    </tr>\n",
       "    <tr>\n",
       "      <th>22781</th>\n",
       "      <td>QJPP</td>\n",
       "      <td>Linguistics, literature and arts</td>\n",
       "      <td>Corpora</td>\n",
       "      <td>Volume 17, Issue Supplement</td>\n",
       "      <td>2022-09-27</td>\n",
       "      <td>Learner corpus research in New Zealand</td>\n",
       "      <td>Anna Siyanova-Chanturia, Jean Parkinson, and T...</td>\n",
       "      <td>https://www.euppublishing.com/doi/full/10.3366...</td>\n",
       "      <td>https://doi.org/10.3366/cor.2022.0250</td>\n",
       "      <td>https://www.euppublishing.com/doi/pdf/10.3366/...</td>\n",
       "      <td>...</td>\n",
       "      <td>t000299_s13_p34_qjpp.txt</td>\n",
       "      <td>The findings of this mixed-methods study were ...</td>\n",
       "      <td>17.0</td>\n",
       "      <td>5.7</td>\n",
       "      <td>106</td>\n",
       "      <td>-30.26</td>\n",
       "      <td>-2.01</td>\n",
       "      <td>4.62</td>\n",
       "      <td>-6.61</td>\n",
       "      <td>-0.58</td>\n",
       "    </tr>\n",
       "    <tr>\n",
       "      <th>22782</th>\n",
       "      <td>QJPP</td>\n",
       "      <td>Linguistics, literature and arts</td>\n",
       "      <td>Corpora</td>\n",
       "      <td>Volume 17, Issue Supplement</td>\n",
       "      <td>2022-09-27</td>\n",
       "      <td>Learner corpus research in New Zealand</td>\n",
       "      <td>Anna Siyanova-Chanturia, Jean Parkinson, and T...</td>\n",
       "      <td>https://www.euppublishing.com/doi/full/10.3366...</td>\n",
       "      <td>https://doi.org/10.3366/cor.2022.0250</td>\n",
       "      <td>https://www.euppublishing.com/doi/pdf/10.3366/...</td>\n",
       "      <td>...</td>\n",
       "      <td>t000299_s4_p1_qjpp.txt</td>\n",
       "      <td>In this paper, we attempted to highlight the s...</td>\n",
       "      <td>27.5</td>\n",
       "      <td>5.2</td>\n",
       "      <td>215</td>\n",
       "      <td>-22.67</td>\n",
       "      <td>-4.20</td>\n",
       "      <td>3.79</td>\n",
       "      <td>-6.61</td>\n",
       "      <td>5.89</td>\n",
       "    </tr>\n",
       "    <tr>\n",
       "      <th>22783</th>\n",
       "      <td>QJPP</td>\n",
       "      <td>Linguistics, literature and arts</td>\n",
       "      <td>Corpora</td>\n",
       "      <td>Volume 17, Issue Supplement</td>\n",
       "      <td>2022-09-27</td>\n",
       "      <td>Learner corpus research in New Zealand</td>\n",
       "      <td>Anna Siyanova-Chanturia, Jean Parkinson, and T...</td>\n",
       "      <td>https://www.euppublishing.com/doi/full/10.3366...</td>\n",
       "      <td>https://doi.org/10.3366/cor.2022.0250</td>\n",
       "      <td>https://www.euppublishing.com/doi/pdf/10.3366/...</td>\n",
       "      <td>...</td>\n",
       "      <td>t000299_s4_p2_qjpp.txt</td>\n",
       "      <td>Evidently, the nature of this piece and space ...</td>\n",
       "      <td>9.5</td>\n",
       "      <td>4.8</td>\n",
       "      <td>45</td>\n",
       "      <td>-21.60</td>\n",
       "      <td>-5.73</td>\n",
       "      <td>-1.55</td>\n",
       "      <td>7.57</td>\n",
       "      <td>17.43</td>\n",
       "    </tr>\n",
       "  </tbody>\n",
       "</table>\n",
       "<p>22784 rows × 26 columns</p>\n",
       "</div>"
      ],
      "text/plain": [
       "      Source                        Discipline           Journal  \\\n",
       "0      EL2AP               Biological Sciences  SciELO Preprints   \n",
       "1      EL2AP               Biological Sciences  SciELO Preprints   \n",
       "2      EL2AP               Biological Sciences  SciELO Preprints   \n",
       "3      EL2AP               Biological Sciences  SciELO Preprints   \n",
       "4      EL2AP               Biological Sciences  SciELO Preprints   \n",
       "...      ...                               ...               ...   \n",
       "22779   QJPP  Linguistics, literature and arts           Corpora   \n",
       "22780   QJPP  Linguistics, literature and arts           Corpora   \n",
       "22781   QJPP  Linguistics, literature and arts           Corpora   \n",
       "22782   QJPP  Linguistics, literature and arts           Corpora   \n",
       "22783   QJPP  Linguistics, literature and arts           Corpora   \n",
       "\n",
       "                         Vol/Issue  Published  \\\n",
       "0                      Not defined 2022-11-22   \n",
       "1                      Not defined 2022-11-22   \n",
       "2                      Not defined 2022-11-22   \n",
       "3                      Not defined 2022-11-22   \n",
       "4                      Not defined 2022-11-22   \n",
       "...                            ...        ...   \n",
       "22779  Volume 17, Issue Supplement 2022-09-27   \n",
       "22780  Volume 17, Issue Supplement 2022-09-27   \n",
       "22781  Volume 17, Issue Supplement 2022-09-27   \n",
       "22782  Volume 17, Issue Supplement 2022-09-27   \n",
       "22783  Volume 17, Issue Supplement 2022-09-27   \n",
       "\n",
       "                                                   Title  \\\n",
       "0      (Fern flora of Viçosa, Minas Gerais State, Bra...   \n",
       "1      (Fern flora of Viçosa, Minas Gerais State, Bra...   \n",
       "2      (Fern flora of Viçosa, Minas Gerais State, Bra...   \n",
       "3      (Fern flora of Viçosa, Minas Gerais State, Bra...   \n",
       "4      (Fern flora of Viçosa, Minas Gerais State, Bra...   \n",
       "...                                                  ...   \n",
       "22779             Learner corpus research in New Zealand   \n",
       "22780             Learner corpus research in New Zealand   \n",
       "22781             Learner corpus research in New Zealand   \n",
       "22782             Learner corpus research in New Zealand   \n",
       "22783             Learner corpus research in New Zealand   \n",
       "\n",
       "                                                 Authors  \\\n",
       "0        Nelson Túlio Lage Pena, Pedro Bond Schwartsburd   \n",
       "1        Nelson Túlio Lage Pena, Pedro Bond Schwartsburd   \n",
       "2        Nelson Túlio Lage Pena, Pedro Bond Schwartsburd   \n",
       "3        Nelson Túlio Lage Pena, Pedro Bond Schwartsburd   \n",
       "4        Nelson Túlio Lage Pena, Pedro Bond Schwartsburd   \n",
       "...                                                  ...   \n",
       "22779  Anna Siyanova-Chanturia, Jean Parkinson, and T...   \n",
       "22780  Anna Siyanova-Chanturia, Jean Parkinson, and T...   \n",
       "22781  Anna Siyanova-Chanturia, Jean Parkinson, and T...   \n",
       "22782  Anna Siyanova-Chanturia, Jean Parkinson, and T...   \n",
       "22783  Anna Siyanova-Chanturia, Jean Parkinson, and T...   \n",
       "\n",
       "                                                     URL  \\\n",
       "0      https://preprints.scielo.org/index.php/scielo/...   \n",
       "1      https://preprints.scielo.org/index.php/scielo/...   \n",
       "2      https://preprints.scielo.org/index.php/scielo/...   \n",
       "3      https://preprints.scielo.org/index.php/scielo/...   \n",
       "4      https://preprints.scielo.org/index.php/scielo/...   \n",
       "...                                                  ...   \n",
       "22779  https://www.euppublishing.com/doi/full/10.3366...   \n",
       "22780  https://www.euppublishing.com/doi/full/10.3366...   \n",
       "22781  https://www.euppublishing.com/doi/full/10.3366...   \n",
       "22782  https://www.euppublishing.com/doi/full/10.3366...   \n",
       "22783  https://www.euppublishing.com/doi/full/10.3366...   \n",
       "\n",
       "                                         DOI  \\\n",
       "0                                Not defined   \n",
       "1                                Not defined   \n",
       "2                                Not defined   \n",
       "3                                Not defined   \n",
       "4                                Not defined   \n",
       "...                                      ...   \n",
       "22779  https://doi.org/10.3366/cor.2022.0250   \n",
       "22780  https://doi.org/10.3366/cor.2022.0250   \n",
       "22781  https://doi.org/10.3366/cor.2022.0250   \n",
       "22782  https://doi.org/10.3366/cor.2022.0250   \n",
       "22783  https://doi.org/10.3366/cor.2022.0250   \n",
       "\n",
       "                                                 PDF URL  ...  \\\n",
       "0      https://preprints.scielo.org/index.php/scielo/...  ...   \n",
       "1      https://preprints.scielo.org/index.php/scielo/...  ...   \n",
       "2      https://preprints.scielo.org/index.php/scielo/...  ...   \n",
       "3      https://preprints.scielo.org/index.php/scielo/...  ...   \n",
       "4      https://preprints.scielo.org/index.php/scielo/...  ...   \n",
       "...                                                  ...  ...   \n",
       "22779  https://www.euppublishing.com/doi/pdf/10.3366/...  ...   \n",
       "22780  https://www.euppublishing.com/doi/pdf/10.3366/...  ...   \n",
       "22781  https://www.euppublishing.com/doi/pdf/10.3366/...  ...   \n",
       "22782  https://www.euppublishing.com/doi/pdf/10.3366/...  ...   \n",
       "22783  https://www.euppublishing.com/doi/pdf/10.3366/...  ...   \n",
       "\n",
       "                       Filename  \\\n",
       "0       t000000_s1_p1_el2ap.txt   \n",
       "1       t000000_s8_p1_el2ap.txt   \n",
       "2       t000000_s8_p2_el2ap.txt   \n",
       "3       t000000_s8_p3_el2ap.txt   \n",
       "4       t000000_s8_p4_el2ap.txt   \n",
       "...                         ...   \n",
       "22779  t000299_s13_p32_qjpp.txt   \n",
       "22780  t000299_s13_p33_qjpp.txt   \n",
       "22781  t000299_s13_p34_qjpp.txt   \n",
       "22782    t000299_s4_p1_qjpp.txt   \n",
       "22783    t000299_s4_p2_qjpp.txt   \n",
       "\n",
       "                                          Text Paragraph Type/Token  \\\n",
       "0      (Fern flora of Viçosa, Minas Gerais State, Bra...       26.3   \n",
       "1      At the end of the era in which the plant Class...       20.5   \n",
       "2      Brazil is represented by Dennstaedtiaceae with...       22.0   \n",
       "3      Pteridium is spread all across the globe (exce...       18.3   \n",
       "4      In the State of Minas Gerais, Dennstaedtiaceae...       16.8   \n",
       "...                                                  ...        ...   \n",
       "22779  However, compared with the writers of New Zeal...       11.3   \n",
       "22780  Prommas’s (2020 ) finding of the lower use of ...       28.0   \n",
       "22781  The findings of this mixed-methods study were ...       17.0   \n",
       "22782  In this paper, we attempted to highlight the s...       27.5   \n",
       "22783  Evidently, the nature of this piece and space ...        9.5   \n",
       "\n",
       "      Word Length Word Count Factor 1 Score Factor 2 Score Factor 3 Score  \\\n",
       "0             5.8        162         -23.71          -4.13           3.95   \n",
       "1             5.4        109         -23.11          -4.52           7.56   \n",
       "2             5.2        118         -16.08          -5.73           7.47   \n",
       "3             4.8         97          -2.16          -3.41          -2.12   \n",
       "4             5.2         94         -25.59          -5.38          -0.54   \n",
       "...           ...        ...            ...            ...            ...   \n",
       "22779         6.1         66         -30.89          -4.73          -8.50   \n",
       "22780         4.9        231         -22.72          -4.06           7.42   \n",
       "22781         5.7        106         -30.26          -2.01           4.62   \n",
       "22782         5.2        215         -22.67          -4.20           3.79   \n",
       "22783         4.8         45         -21.60          -5.73          -1.55   \n",
       "\n",
       "       Factor 4 Score  Factor 5 Score  \n",
       "0               -6.61           -3.63  \n",
       "1               -2.94            8.99  \n",
       "2               -6.61            8.36  \n",
       "3               -1.92           -0.50  \n",
       "4               -6.61            4.56  \n",
       "...               ...             ...  \n",
       "22779           -6.61           15.62  \n",
       "22780           -4.87            1.13  \n",
       "22781           -6.61           -0.58  \n",
       "22782           -6.61            5.89  \n",
       "22783            7.57           17.43  \n",
       "\n",
       "[22784 rows x 26 columns]"
      ]
     },
     "execution_count": 42,
     "metadata": {},
     "output_type": "execute_result"
    }
   ],
   "source": [
    "df_cl_st1_eyamrog_dimensions"
   ]
  },
  {
   "cell_type": "markdown",
   "id": "2a375f29-d385-48ab-8693-7830eaddf8e4",
   "metadata": {},
   "source": [
    "## Check the presence of zero-score texts in the dimensions"
   ]
  },
  {
   "cell_type": "markdown",
   "id": "2da947bc-6c27-49f2-963a-689b3dafec96",
   "metadata": {},
   "source": [
    "The presence of zero-score texts seems to be insignificant."
   ]
  },
  {
   "cell_type": "code",
   "execution_count": 43,
   "id": "b683048f-b78d-46ef-bf31-3bfa290f5aff",
   "metadata": {},
   "outputs": [
    {
     "name": "stdout",
     "output_type": "stream",
     "text": [
      "Rows where 'Factor 1 Score' is zero: 0\n",
      "Indexes of those rows: []\n"
     ]
    }
   ],
   "source": [
    "# Counting rows where 'Factor 1 Score' is equal to zero\n",
    "zero_mask = df_cl_st1_eyamrog_dimensions['Factor 1 Score'] == 0\n",
    "zero_count = zero_mask.sum()\n",
    "zero_indexes = df_cl_st1_eyamrog_dimensions.index[zero_mask].tolist()\n",
    "\n",
    "print(f\"Rows where 'Factor 1 Score' is zero: {zero_count}\")\n",
    "print(f\"Indexes of those rows: {zero_indexes}\")"
   ]
  },
  {
   "cell_type": "code",
   "execution_count": 44,
   "id": "9a57dec3-49f1-467a-8741-9f89ef8a6a48",
   "metadata": {},
   "outputs": [
    {
     "name": "stdout",
     "output_type": "stream",
     "text": [
      "Rows where 'Factor 2 Score' is zero: 3\n",
      "Indexes of those rows: [2626, 9663, 14905]\n"
     ]
    }
   ],
   "source": [
    "# Counting rows where 'Factor 2 Score' is equal to zero\n",
    "zero_mask = df_cl_st1_eyamrog_dimensions['Factor 2 Score'] == 0\n",
    "zero_count = zero_mask.sum()\n",
    "zero_indexes = df_cl_st1_eyamrog_dimensions.index[zero_mask].tolist()\n",
    "\n",
    "print(f\"Rows where 'Factor 2 Score' is zero: {zero_count}\")\n",
    "print(f\"Indexes of those rows: {zero_indexes}\")"
   ]
  },
  {
   "cell_type": "code",
   "execution_count": 45,
   "id": "e72da2b6-c9df-4b56-872c-1b2691fa4750",
   "metadata": {},
   "outputs": [
    {
     "name": "stdout",
     "output_type": "stream",
     "text": [
      "Rows where 'Factor 3 Score' is zero: 11\n",
      "Indexes of those rows: [248, 262, 4004, 4633, 5208, 8082, 18772, 18932, 19392, 22183, 22343]\n"
     ]
    }
   ],
   "source": [
    "# Counting rows where 'Factor 3 Score' is equal to zero\n",
    "zero_mask = df_cl_st1_eyamrog_dimensions['Factor 3 Score'] == 0\n",
    "zero_count = zero_mask.sum()\n",
    "zero_indexes = df_cl_st1_eyamrog_dimensions.index[zero_mask].tolist()\n",
    "\n",
    "print(f\"Rows where 'Factor 3 Score' is zero: {zero_count}\")\n",
    "print(f\"Indexes of those rows: {zero_indexes}\")"
   ]
  },
  {
   "cell_type": "code",
   "execution_count": 46,
   "id": "a5d53729-fdaa-4864-ac5a-ed28567b00e9",
   "metadata": {},
   "outputs": [
    {
     "name": "stdout",
     "output_type": "stream",
     "text": [
      "Rows where 'Factor 4 Score' is zero: 1\n",
      "Indexes of those rows: [1399]\n"
     ]
    }
   ],
   "source": [
    "# Counting rows where 'Factor 4 Score' is equal to zero\n",
    "zero_mask = df_cl_st1_eyamrog_dimensions['Factor 4 Score'] == 0\n",
    "zero_count = zero_mask.sum()\n",
    "zero_indexes = df_cl_st1_eyamrog_dimensions.index[zero_mask].tolist()\n",
    "\n",
    "print(f\"Rows where 'Factor 4 Score' is zero: {zero_count}\")\n",
    "print(f\"Indexes of those rows: {zero_indexes}\")"
   ]
  },
  {
   "cell_type": "code",
   "execution_count": 47,
   "id": "c154bd92-645f-49e7-89f9-d207393b7fcf",
   "metadata": {},
   "outputs": [
    {
     "name": "stdout",
     "output_type": "stream",
     "text": [
      "Rows where 'Factor 5 Score' is zero: 6\n",
      "Indexes of those rows: [5250, 6053, 10475, 14952, 19254, 22162]\n"
     ]
    }
   ],
   "source": [
    "# Counting rows where 'Factor 5 Score' is equal to zero\n",
    "zero_mask = df_cl_st1_eyamrog_dimensions['Factor 5 Score'] == 0\n",
    "zero_count = zero_mask.sum()\n",
    "zero_indexes = df_cl_st1_eyamrog_dimensions.index[zero_mask].tolist()\n",
    "\n",
    "print(f\"Rows where 'Factor 5 Score' is zero: {zero_count}\")\n",
    "print(f\"Indexes of those rows: {zero_indexes}\")"
   ]
  },
  {
   "cell_type": "markdown",
   "id": "0d348f64-e4db-48b2-a434-1cb27d9a4419",
   "metadata": {},
   "source": [
    "### Exporting to files"
   ]
  },
  {
   "cell_type": "code",
   "execution_count": 48,
   "id": "f49c17cd-bd32-4c2f-86bd-98028b8e42fb",
   "metadata": {},
   "outputs": [],
   "source": [
    "df_cl_st1_eyamrog_dimensions.to_json(f\"{output_directory}/df_cl_st1_eyamrog_dimensions.jsonl\", orient='records', lines=True)"
   ]
  },
  {
   "cell_type": "code",
   "execution_count": 49,
   "id": "8c6090da-83a0-4792-a3b2-44bd136a3417",
   "metadata": {},
   "outputs": [],
   "source": [
    "df_cl_st1_eyamrog_dimensions.to_csv(f\"{output_directory}/df_cl_st1_eyamrog_dimensions.tsv\", sep='\\t', index=False, encoding='utf-8', lineterminator='\\n')"
   ]
  },
  {
   "cell_type": "code",
   "execution_count": 50,
   "id": "b390e5bf-ccc4-4a81-a5b1-48572d149967",
   "metadata": {},
   "outputs": [],
   "source": [
    "df_cl_st1_eyamrog_dimensions.to_excel(f\"{output_directory}/df_cl_st1_eyamrog_dimensions.xlsx\")"
   ]
  },
  {
   "cell_type": "code",
   "execution_count": null,
   "id": "8dddd4ee-e3ff-4a59-8abc-284e9e939096",
   "metadata": {},
   "outputs": [],
   "source": []
  }
 ],
 "metadata": {
  "kernelspec": {
   "display_name": "Python 3 (ipykernel)",
   "language": "python",
   "name": "python3"
  },
  "language_info": {
   "codemirror_mode": {
    "name": "ipython",
    "version": 3
   },
   "file_extension": ".py",
   "mimetype": "text/x-python",
   "name": "python",
   "nbconvert_exporter": "python",
   "pygments_lexer": "ipython3",
   "version": "3.12.9"
  }
 },
 "nbformat": 4,
 "nbformat_minor": 5
}
